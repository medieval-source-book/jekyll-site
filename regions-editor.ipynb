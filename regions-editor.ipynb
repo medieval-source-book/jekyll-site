{
 "cells": [
  {
   "cell_type": "code",
   "execution_count": 1,
   "id": "99313adf",
   "metadata": {},
   "outputs": [
    {
     "ename": "ComposerError",
     "evalue": "expected a single document in the stream\n  in \"_texts/al_shafii_let_days_do_they_please.md\", line 2, column 1\nbut found another document\n  in \"_texts/al_shafii_let_days_do_they_please.md\", line 27, column 1",
     "output_type": "error",
     "traceback": [
      "\u001b[0;31m---------------------------------------------------------------------------\u001b[0m",
      "\u001b[0;31mComposerError\u001b[0m                             Traceback (most recent call last)",
      "Cell \u001b[0;32mIn[1], line 13\u001b[0m\n\u001b[1;32m     10\u001b[0m filepath \u001b[38;5;241m=\u001b[39m os\u001b[38;5;241m.\u001b[39mpath\u001b[38;5;241m.\u001b[39mjoin(\u001b[38;5;124m\"\u001b[39m\u001b[38;5;124m_texts\u001b[39m\u001b[38;5;124m\"\u001b[39m, filename)\n\u001b[1;32m     11\u001b[0m \u001b[38;5;28;01mwith\u001b[39;00m \u001b[38;5;28mopen\u001b[39m(filepath, \u001b[38;5;124m\"\u001b[39m\u001b[38;5;124mr\u001b[39m\u001b[38;5;124m\"\u001b[39m) \u001b[38;5;28;01mas\u001b[39;00m file:\n\u001b[1;32m     12\u001b[0m     \u001b[38;5;66;03m# Read the YAML front matter\u001b[39;00m\n\u001b[0;32m---> 13\u001b[0m     yaml_data \u001b[38;5;241m=\u001b[39m \u001b[43myaml\u001b[49m\u001b[38;5;241;43m.\u001b[39;49m\u001b[43msafe_load\u001b[49m\u001b[43m(\u001b[49m\u001b[43mfile\u001b[49m\u001b[43m)\u001b[49m\n\u001b[1;32m     14\u001b[0m     \u001b[38;5;28;01mif\u001b[39;00m yaml_data \u001b[38;5;129;01mis\u001b[39;00m \u001b[38;5;129;01mnot\u001b[39;00m \u001b[38;5;28;01mNone\u001b[39;00m:\n\u001b[1;32m     15\u001b[0m         \u001b[38;5;66;03m# Update the languages and regions fields\u001b[39;00m\n\u001b[1;32m     16\u001b[0m         languages \u001b[38;5;241m=\u001b[39m yaml_data\u001b[38;5;241m.\u001b[39mget(\u001b[38;5;124m\"\u001b[39m\u001b[38;5;124mlanguages\u001b[39m\u001b[38;5;124m\"\u001b[39m, [])\n",
      "File \u001b[0;32m/opt/miniconda3/envs/jcc/lib/python3.11/site-packages/yaml/__init__.py:125\u001b[0m, in \u001b[0;36msafe_load\u001b[0;34m(stream)\u001b[0m\n\u001b[1;32m    117\u001b[0m \u001b[38;5;28;01mdef\u001b[39;00m \u001b[38;5;21msafe_load\u001b[39m(stream):\n\u001b[1;32m    118\u001b[0m \u001b[38;5;250m    \u001b[39m\u001b[38;5;124;03m\"\"\"\u001b[39;00m\n\u001b[1;32m    119\u001b[0m \u001b[38;5;124;03m    Parse the first YAML document in a stream\u001b[39;00m\n\u001b[1;32m    120\u001b[0m \u001b[38;5;124;03m    and produce the corresponding Python object.\u001b[39;00m\n\u001b[0;32m   (...)\u001b[0m\n\u001b[1;32m    123\u001b[0m \u001b[38;5;124;03m    to be safe for untrusted input.\u001b[39;00m\n\u001b[1;32m    124\u001b[0m \u001b[38;5;124;03m    \"\"\"\u001b[39;00m\n\u001b[0;32m--> 125\u001b[0m     \u001b[38;5;28;01mreturn\u001b[39;00m \u001b[43mload\u001b[49m\u001b[43m(\u001b[49m\u001b[43mstream\u001b[49m\u001b[43m,\u001b[49m\u001b[43m \u001b[49m\u001b[43mSafeLoader\u001b[49m\u001b[43m)\u001b[49m\n",
      "File \u001b[0;32m/opt/miniconda3/envs/jcc/lib/python3.11/site-packages/yaml/__init__.py:81\u001b[0m, in \u001b[0;36mload\u001b[0;34m(stream, Loader)\u001b[0m\n\u001b[1;32m     79\u001b[0m loader \u001b[38;5;241m=\u001b[39m Loader(stream)\n\u001b[1;32m     80\u001b[0m \u001b[38;5;28;01mtry\u001b[39;00m:\n\u001b[0;32m---> 81\u001b[0m     \u001b[38;5;28;01mreturn\u001b[39;00m \u001b[43mloader\u001b[49m\u001b[38;5;241;43m.\u001b[39;49m\u001b[43mget_single_data\u001b[49m\u001b[43m(\u001b[49m\u001b[43m)\u001b[49m\n\u001b[1;32m     82\u001b[0m \u001b[38;5;28;01mfinally\u001b[39;00m:\n\u001b[1;32m     83\u001b[0m     loader\u001b[38;5;241m.\u001b[39mdispose()\n",
      "File \u001b[0;32m/opt/miniconda3/envs/jcc/lib/python3.11/site-packages/yaml/constructor.py:49\u001b[0m, in \u001b[0;36mBaseConstructor.get_single_data\u001b[0;34m(self)\u001b[0m\n\u001b[1;32m     47\u001b[0m \u001b[38;5;28;01mdef\u001b[39;00m \u001b[38;5;21mget_single_data\u001b[39m(\u001b[38;5;28mself\u001b[39m):\n\u001b[1;32m     48\u001b[0m     \u001b[38;5;66;03m# Ensure that the stream contains a single document and construct it.\u001b[39;00m\n\u001b[0;32m---> 49\u001b[0m     node \u001b[38;5;241m=\u001b[39m \u001b[38;5;28;43mself\u001b[39;49m\u001b[38;5;241;43m.\u001b[39;49m\u001b[43mget_single_node\u001b[49m\u001b[43m(\u001b[49m\u001b[43m)\u001b[49m\n\u001b[1;32m     50\u001b[0m     \u001b[38;5;28;01mif\u001b[39;00m node \u001b[38;5;129;01mis\u001b[39;00m \u001b[38;5;129;01mnot\u001b[39;00m \u001b[38;5;28;01mNone\u001b[39;00m:\n\u001b[1;32m     51\u001b[0m         \u001b[38;5;28;01mreturn\u001b[39;00m \u001b[38;5;28mself\u001b[39m\u001b[38;5;241m.\u001b[39mconstruct_document(node)\n",
      "File \u001b[0;32m/opt/miniconda3/envs/jcc/lib/python3.11/site-packages/yaml/composer.py:41\u001b[0m, in \u001b[0;36mComposer.get_single_node\u001b[0;34m(self)\u001b[0m\n\u001b[1;32m     39\u001b[0m \u001b[38;5;28;01mif\u001b[39;00m \u001b[38;5;129;01mnot\u001b[39;00m \u001b[38;5;28mself\u001b[39m\u001b[38;5;241m.\u001b[39mcheck_event(StreamEndEvent):\n\u001b[1;32m     40\u001b[0m     event \u001b[38;5;241m=\u001b[39m \u001b[38;5;28mself\u001b[39m\u001b[38;5;241m.\u001b[39mget_event()\n\u001b[0;32m---> 41\u001b[0m     \u001b[38;5;28;01mraise\u001b[39;00m ComposerError(\u001b[38;5;124m\"\u001b[39m\u001b[38;5;124mexpected a single document in the stream\u001b[39m\u001b[38;5;124m\"\u001b[39m,\n\u001b[1;32m     42\u001b[0m             document\u001b[38;5;241m.\u001b[39mstart_mark, \u001b[38;5;124m\"\u001b[39m\u001b[38;5;124mbut found another document\u001b[39m\u001b[38;5;124m\"\u001b[39m,\n\u001b[1;32m     43\u001b[0m             event\u001b[38;5;241m.\u001b[39mstart_mark)\n\u001b[1;32m     45\u001b[0m \u001b[38;5;66;03m# Drop the STREAM-END event.\u001b[39;00m\n\u001b[1;32m     46\u001b[0m \u001b[38;5;28mself\u001b[39m\u001b[38;5;241m.\u001b[39mget_event()\n",
      "\u001b[0;31mComposerError\u001b[0m: expected a single document in the stream\n  in \"_texts/al_shafii_let_days_do_they_please.md\", line 2, column 1\nbut found another document\n  in \"_texts/al_shafii_let_days_do_they_please.md\", line 27, column 1"
     ]
    }
   ],
   "source": [
    "import os\n",
    "import yaml\n",
    "\n",
    "# Define the list of regions\n",
    "regions = [\"americas\", \"asia\", \"eastern_europe\", \"middle_east\", \"western_europe\"]\n",
    "\n",
    "# Iterate over the _texts/*.md files\n",
    "for filename in os.listdir(\"_texts\"):\n",
    "    if filename.endswith(\".md\"):\n",
    "        filepath = os.path.join(\"_texts\", filename)\n",
    "        with open(filepath, \"r\") as file:\n",
    "            # Read the YAML front matter\n",
    "            yaml_data = yaml.safe_load(file)\n",
    "            if yaml_data is not None:\n",
    "                # Update the languages and regions fields\n",
    "                languages = yaml_data.get(\"languages\", [])\n",
    "                new_languages = [lang for lang in languages if lang not in regions]\n",
    "                yaml_data[\"languages\"] = new_languages\n",
    "                yaml_data[\"regions\"] = [lang for lang in languages if lang in regions]\n",
    "                # Write the updated YAML front matter\n",
    "                with open(filepath, \"w\") as file:\n",
    "                    yaml.dump(yaml_data, file, default_flow_style=False)\n",
    "                    file.write(\"---\\n\")\n",
    "                    # Read the rest of the file and write it back\n",
    "                    file.seek(0, os.SEEK_END)\n",
    "                    file.write(file.read())"
   ]
  },
  {
   "cell_type": "code",
   "execution_count": 2,
   "id": "27a448e2",
   "metadata": {},
   "outputs": [],
   "source": [
    "import os\n",
    "import yaml\n",
    "\n",
    "# Create the _yaml directory if it doesn't exist\n",
    "if not os.path.exists(\"_yaml\"):\n",
    "    os.makedirs(\"_yaml\")\n",
    "\n",
    "# Iterate over the _texts/*.md files\n",
    "for filename in os.listdir(\"_texts\"):\n",
    "    if filename.endswith(\".md\"):\n",
    "        filepath = os.path.join(\"_texts\", filename)\n",
    "        with open(filepath, \"r\") as file:\n",
    "            # Read the YAML front matter\n",
    "            yaml_data = \"\"\n",
    "            in_yaml = True\n",
    "            for line in file:\n",
    "                if line.strip() == \"---\":\n",
    "                    if in_yaml:\n",
    "                        in_yaml = False\n",
    "                    else:\n",
    "                        break\n",
    "                elif not in_yaml:\n",
    "                    yaml_data += line\n",
    "            if yaml_data:\n",
    "                # Write the YAML data to the new file\n",
    "                with open(os.path.join(\"_yaml\", filename), \"w\") as new_file:\n",
    "                    new_file.write(\"---\\n\")\n",
    "                    new_file.write(yaml_data)\n",
    "                    new_file.write(\"---\\n\")"
   ]
  },
  {
   "cell_type": "code",
   "execution_count": null,
   "id": "b0ed9219",
   "metadata": {},
   "outputs": [],
   "source": [
    "import os\n",
    "import yaml\n",
    "\n",
    "# Define the list of regions\n",
    "regions = [\"americas\", \"asia\", \"eastern_europe\", \"middle_east\", \"western_europe\"]\n",
    "\n",
    "# Iterate over the _texts/*.md files\n",
    "for filename in os.listdir(\"_texts\"):\n",
    "    if filename.endswith(\".md\"):\n",
    "        filepath = os.path.join(\"_texts\", filename)\n",
    "        with open(filepath, \"r\") as file:\n",
    "            # Read the YAML front matter\n",
    "            yaml_lines = []\n",
    "            in_yaml = True\n",
    "            for line in file:\n",
    "                if line.strip() == \"---\":\n",
    "                    in_yaml = not in_yaml\n",
    "                elif in_yaml:\n",
    "                    yaml_lines.append(line)\n",
    "                else:\n",
    "                    break\n",
    "            yaml_data = yaml.safe_load(\"\\n\".join(yaml_lines))\n",
    "            if yaml_data is not None:\n",
    "                # Update the languages and regions fields\n",
    "                languages = yaml_data.get(\"languages\", [])\n",
    "                new_languages = [lang for lang in languages if lang not in regions]\n",
    "                yaml_data[\"languages\"] = new_languages\n",
    "                yaml_data[\"regions\"] = [lang for lang in languages if lang in regions]\n",
    "                # Write the updated YAML front matter\n",
    "                with open(filepath, \"w\") as file:\n",
    "                    yaml.dump(yaml_data, file, default_flow_style=False)\n",
    "                    file.write(\"---\\n\")\n",
    "                    # Read the rest of the file and write it back\n",
    "                    file.seek(0, os.SEEK_END)\n",
    "                    file.write(file.read())"
   ]
  }
 ],
 "metadata": {
  "kernelspec": {
   "display_name": "jcc",
   "language": "python",
   "name": "python3"
  },
  "language_info": {
   "codemirror_mode": {
    "name": "ipython",
    "version": 3
   },
   "file_extension": ".py",
   "mimetype": "text/x-python",
   "name": "python",
   "nbconvert_exporter": "python",
   "pygments_lexer": "ipython3",
   "version": "3.11.9"
  }
 },
 "nbformat": 4,
 "nbformat_minor": 5
}
